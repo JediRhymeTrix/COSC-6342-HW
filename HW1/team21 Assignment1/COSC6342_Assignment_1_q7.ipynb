{
  "cells": [
    {
      "cell_type": "markdown",
      "metadata": {
        "id": "v8OCttbmEWww"
      },
      "source": [
        "You are given a generated regression dataset `D: (X, y)` along already split train and test subsets, `X_train, X_test, y_train, y_test`.\n",
        "\n",
        "    Logistic regression tasks\n",
        "    -----------------------\n",
        "    1. Build a logistic regression model using sklearn.\n",
        "    2. Use no-regularization and any other 2 regulartion methods.\n",
        "    3. Compute the accuracy on the train and test sets (for all models).\n",
        "    4. Describe what you have seen based on the experiements (minimum 150 words).\n",
        "    5. Answer any questions asked in question 7.\n",
        "\n",
        "Resources:\n",
        "1. [Logistic Regression Model](https://scikit-learn.org/stable/modules/generated/sklearn.linear_model.LogisticRegression.html#sklearn.linear_model.LogisticRegression.score)"
      ]
    },
    {
      "cell_type": "code",
      "execution_count": 1,
      "metadata": {
        "id": "MIGNguk-oRHt"
      },
      "outputs": [],
      "source": [
        "import numpy as np\n",
        "import pandas as pd\n",
        "from sklearn.datasets import make_classification\n",
        "from sklearn.linear_model import LogisticRegression\n",
        "from sklearn.model_selection import train_test_split"
      ]
    },
    {
      "cell_type": "code",
      "execution_count": null,
      "metadata": {
        "cellView": "form",
        "id": "56wb3MlAuZaZ"
      },
      "outputs": [],
      "source": [
        "#@title Data Generation (DO NOT MODIFY)\n",
        "X, y = make_classification(n_samples=500, n_features=10, n_redundant=4, \n",
        "                                 n_informative=6, n_clusters_per_class=1, random_state=42)\n",
        "X_train, X_test, y_train, y_test = train_test_split(X, y, test_size=0.25, random_state=42)"
      ]
    },
    {
      "cell_type": "code",
      "execution_count": null,
      "metadata": {
        "id": "cngZt8RwFPTn"
      },
      "outputs": [],
      "source": [
        "# WRITE YOUR CODE STARTING HERE"
      ]
    },
    {
      "cell_type": "code",
      "execution_count": null,
      "metadata": {
        "id": "_5Nvl7uxG3AF"
      },
      "outputs": [],
      "source": []
    }
  ],
  "metadata": {
    "colab": {
      "collapsed_sections": [],
      "provenance": []
    },
    "kernelspec": {
      "display_name": "Python 3.9.13 ('base')",
      "language": "python",
      "name": "python3"
    },
    "language_info": {
      "codemirror_mode": {
        "name": "ipython",
        "version": 3
      },
      "file_extension": ".py",
      "mimetype": "text/x-python",
      "name": "python",
      "nbconvert_exporter": "python",
      "pygments_lexer": "ipython3",
      "version": "3.9.13"
    },
    "vscode": {
      "interpreter": {
        "hash": "8925e1cb74940c9c739f4d1d49e83e1784f45b2140fb8d89f43e40ef302d4e1e"
      }
    }
  },
  "nbformat": 4,
  "nbformat_minor": 0
}
