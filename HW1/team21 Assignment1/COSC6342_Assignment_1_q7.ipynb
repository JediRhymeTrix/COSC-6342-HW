{
  "nbformat": 4,
  "nbformat_minor": 0,
  "metadata": {
    "colab": {
      "provenance": [],
      "collapsed_sections": []
    },
    "kernelspec": {
      "name": "python3",
      "display_name": "Python 3"
    },
    "language_info": {
      "name": "python"
    }
  },
  "cells": [
    {
      "cell_type": "markdown",
      "source": [
        "You are given a generated regression dataset `D: (X, y)` along already split train and test subsets, `X_train, X_test, y_train, y_test`.\n",
        "\n",
        "    Logistic regression tasks\n",
        "    -----------------------\n",
        "    1. Build a logistic regression model using sklearn.\n",
        "    2. Use no-regularization and any other 2 regulartion methods.\n",
        "    3. Compute the accuracy on the train and test sets (for all models).\n",
        "    4. Describe what you have seen based on the experiements (minimum 150 words).\n",
        "    5. Answer any questions asked in question 7.\n",
        "\n",
        "Resources:\n",
        "1. [Logistic Regression Model](https://scikit-learn.org/stable/modules/generated/sklearn.linear_model.LogisticRegression.html#sklearn.linear_model.LogisticRegression.score)"
      ],
      "metadata": {
        "id": "v8OCttbmEWww"
      }
    },
    {
      "cell_type": "code",
      "execution_count": 2,
      "metadata": {
        "id": "MIGNguk-oRHt"
      },
      "outputs": [],
      "source": [
        "import numpy as np\n",
        "import pandas as pd\n",
        "from sklearn.datasets import make_classification\n",
        "from sklearn.linear_model import LogisticRegression\n",
        "from sklearn.model_selection import train_test_split\n",
        "from sklearn.metrics import mean_squared_error, accuracy_score"
      ]
    },
    {
      "cell_type": "code",
      "source": [
        "#@title Data Generation (DO NOT MODIFY)\n",
        "X, y = make_classification(n_samples=500, n_features=10, n_redundant=4, \n",
        "                                 n_informative=6, n_clusters_per_class=1, random_state=42)\n",
        "X_train, X_test, y_train, y_test = train_test_split(X, y, test_size=0.25, random_state=42)"
      ],
      "metadata": {
        "cellView": "form",
        "id": "56wb3MlAuZaZ"
      },
      "execution_count": 3,
      "outputs": []
    },
    {
      "cell_type": "code",
      "source": [
        "# WRITE YOUR CODE STARTING HERE"
      ],
      "metadata": {
        "id": "cngZt8RwFPTn"
      },
      "execution_count": null,
      "outputs": []
    },
    {
      "cell_type": "code",
      "source": [
        "X_train"
      ],
      "metadata": {
        "id": "_5Nvl7uxG3AF",
        "outputId": "fa7c776a-2256-4970-9e6b-3ee928e2acdb",
        "colab": {
          "base_uri": "https://localhost:8080/"
        }
      },
      "execution_count": 4,
      "outputs": [
        {
          "output_type": "execute_result",
          "data": {
            "text/plain": [
              "array([[ 2.45608701, -0.85609901,  0.98440626, ..., -3.38343226,\n",
              "        -1.93383223, -0.85671185],\n",
              "       [ 3.77590571,  0.70308327,  0.14427569, ..., -1.7963977 ,\n",
              "        -1.43426437, -2.10467048],\n",
              "       [-0.02500899,  1.79144961,  4.12125544, ..., -5.036711  ,\n",
              "         0.53288924,  0.02878021],\n",
              "       ...,\n",
              "       [-4.89608214,  2.6480412 , -1.59410344, ...,  4.58937926,\n",
              "         6.00621347,  1.65361367],\n",
              "       [-1.00627793,  1.93959633,  2.68091606, ..., -2.03460225,\n",
              "         0.25254915, -0.36383412],\n",
              "       [-2.46119572,  2.94007752,  0.54852945, ...,  0.76686972,\n",
              "         1.60501577, -0.68299244]])"
            ]
          },
          "metadata": {},
          "execution_count": 4
        }
      ]
    },
    {
      "cell_type": "markdown",
      "source": [
        "**No** **Regularization**"
      ],
      "metadata": {
        "id": "I9JjrkWDUq0D"
      }
    },
    {
      "cell_type": "code",
      "source": [
        "clf1 = LogisticRegression(penalty='none').fit(X_train,y_train)"
      ],
      "metadata": {
        "id": "JxRLUfEXTjCc"
      },
      "execution_count": 5,
      "outputs": []
    },
    {
      "cell_type": "code",
      "source": [
        "y_pred_test = clf1.predict(X_test)\n",
        "y_pred_train = clf1.predict(X_train)"
      ],
      "metadata": {
        "id": "O1TpmliVTmwa"
      },
      "execution_count": 6,
      "outputs": []
    },
    {
      "cell_type": "code",
      "source": [
        "clf1.coef_"
      ],
      "metadata": {
        "id": "Sm228_IoTqNU",
        "outputId": "211480c2-9533-471e-f5df-63ac2ecc157e",
        "colab": {
          "base_uri": "https://localhost:8080/"
        }
      },
      "execution_count": 7,
      "outputs": [
        {
          "output_type": "execute_result",
          "data": {
            "text/plain": [
              "array([[ 0.52111519, -0.87199428, -0.32741849, -0.06065919,  0.17839203,\n",
              "        -0.25366652,  0.98940785, -0.1846304 , -0.57059891, -0.05437802]])"
            ]
          },
          "metadata": {},
          "execution_count": 7
        }
      ]
    },
    {
      "cell_type": "code",
      "source": [
        "test_error = mean_squared_error(y_test,y_pred_test)\n",
        "train_error = mean_squared_error(y_train,y_pred_train)\n",
        "print(\"Train error\", train_error)\n",
        "print(\"Test error\", test_error)"
      ],
      "metadata": {
        "id": "xWwTvgmmTvQ0",
        "outputId": "b15fe554-c6ce-4b5d-e300-8d4321be6bf2",
        "colab": {
          "base_uri": "https://localhost:8080/"
        }
      },
      "execution_count": 8,
      "outputs": [
        {
          "output_type": "stream",
          "name": "stdout",
          "text": [
            "Train error 0.096\n",
            "Test error 0.112\n"
          ]
        }
      ]
    },
    {
      "cell_type": "code",
      "source": [
        "train_accuracy = accuracy_score(y_train,y_pred_train)\n",
        "test_accuracy = accuracy_score(y_test,y_pred_test)\n",
        "print(\"Train accuracy\", train_accuracy)\n",
        "print(\"Test accuracy\", test_accuracy)"
      ],
      "metadata": {
        "id": "e3Ad7lTGTy9U",
        "outputId": "720c4421-9666-4742-f5f0-f05bd32e4bc2",
        "colab": {
          "base_uri": "https://localhost:8080/"
        }
      },
      "execution_count": 9,
      "outputs": [
        {
          "output_type": "stream",
          "name": "stdout",
          "text": [
            "Train accuracy 0.904\n",
            "Test accuracy 0.888\n"
          ]
        }
      ]
    },
    {
      "cell_type": "markdown",
      "source": [
        "**L1** **Regularization**"
      ],
      "metadata": {
        "id": "EPzNk2PlT5xC"
      }
    },
    {
      "cell_type": "code",
      "source": [
        "clf = LogisticRegression(penalty='l1', solver='liblinear').fit(X_train,y_train)"
      ],
      "metadata": {
        "id": "5LodqbRRUGE2"
      },
      "execution_count": 10,
      "outputs": []
    },
    {
      "cell_type": "code",
      "source": [
        "y_pred_test = clf.predict(X_test)\n",
        "y_pred_train = clf.predict(X_train)"
      ],
      "metadata": {
        "id": "yQIlbJDCULX2"
      },
      "execution_count": 11,
      "outputs": []
    },
    {
      "cell_type": "code",
      "source": [
        "clf.coef_"
      ],
      "metadata": {
        "id": "fSJz8B78UODf",
        "outputId": "1db8475f-9fd2-4152-bf0c-7d16477debca",
        "colab": {
          "base_uri": "https://localhost:8080/"
        }
      },
      "execution_count": 12,
      "outputs": [
        {
          "output_type": "execute_result",
          "data": {
            "text/plain": [
              "array([[ 0.62431141, -0.54790721, -0.26807556,  0.        ,  0.        ,\n",
              "        -0.18157772,  1.14785435,  0.        , -0.5925664 ,  0.        ]])"
            ]
          },
          "metadata": {},
          "execution_count": 12
        }
      ]
    },
    {
      "cell_type": "code",
      "source": [
        "test_error = mean_squared_error(y_test,y_pred_test)\n",
        "train_error = mean_squared_error(y_train,y_pred_train)\n",
        "print(\"Train error\", train_error)\n",
        "print(\"Test error\", test_error)"
      ],
      "metadata": {
        "id": "QIbwke8dURdH",
        "outputId": "992e8d66-7c9c-4e6a-e0a4-e0fdf00d2e3e",
        "colab": {
          "base_uri": "https://localhost:8080/"
        }
      },
      "execution_count": 13,
      "outputs": [
        {
          "output_type": "stream",
          "name": "stdout",
          "text": [
            "Train error 0.10133333333333333\n",
            "Test error 0.128\n"
          ]
        }
      ]
    },
    {
      "cell_type": "code",
      "source": [
        "train_accuracy = accuracy_score(y_train,y_pred_train)\n",
        "test_accuracy = accuracy_score(y_test,y_pred_test)\n",
        "print(\"Train accuracy\", train_accuracy)\n",
        "print(\"Test accuracy\", test_accuracy)"
      ],
      "metadata": {
        "id": "X0I30XnLUV2t",
        "outputId": "43f58de2-b224-41c3-ef7b-8d70eabf2cda",
        "colab": {
          "base_uri": "https://localhost:8080/"
        }
      },
      "execution_count": 14,
      "outputs": [
        {
          "output_type": "stream",
          "name": "stdout",
          "text": [
            "Train accuracy 0.8986666666666666\n",
            "Test accuracy 0.872\n"
          ]
        }
      ]
    },
    {
      "cell_type": "markdown",
      "source": [
        "**L2** **Regularization**"
      ],
      "metadata": {
        "id": "uqpzr0kQUYFi"
      }
    },
    {
      "cell_type": "code",
      "source": [
        "clf2 = LogisticRegression(penalty='l2').fit(X_train,y_train)"
      ],
      "metadata": {
        "id": "oWL7HTDVUb0L"
      },
      "execution_count": 15,
      "outputs": []
    },
    {
      "cell_type": "code",
      "source": [
        "y_pred_test = clf2.predict(X_test)\n",
        "y_pred_train = clf2.predict(X_train)"
      ],
      "metadata": {
        "id": "8cr366zPUfzV"
      },
      "execution_count": 16,
      "outputs": []
    },
    {
      "cell_type": "code",
      "source": [
        "clf2.coef_"
      ],
      "metadata": {
        "id": "Jqi7Lle6UimM",
        "outputId": "94b940cb-3836-4f6c-f416-4c98e8fd1071",
        "colab": {
          "base_uri": "https://localhost:8080/"
        }
      },
      "execution_count": 17,
      "outputs": [
        {
          "output_type": "execute_result",
          "data": {
            "text/plain": [
              "array([[ 0.50661027, -0.84929268, -0.31254191, -0.07605685,  0.15337002,\n",
              "        -0.19131031,  0.93557548, -0.16990146, -0.54385095, -0.0283362 ]])"
            ]
          },
          "metadata": {},
          "execution_count": 17
        }
      ]
    },
    {
      "cell_type": "code",
      "source": [
        "test_error = mean_squared_error(y_test,y_pred_test)\n",
        "train_error = mean_squared_error(y_train,y_pred_train)\n",
        "print(\"Train error\", train_error)\n",
        "print(\"Test error\", test_error)"
      ],
      "metadata": {
        "id": "O_TNw9O8UlH_",
        "outputId": "dbf421bf-f0fb-4a27-b465-1198dda9e789",
        "colab": {
          "base_uri": "https://localhost:8080/"
        }
      },
      "execution_count": 18,
      "outputs": [
        {
          "output_type": "stream",
          "name": "stdout",
          "text": [
            "Train error 0.09866666666666667\n",
            "Test error 0.112\n"
          ]
        }
      ]
    },
    {
      "cell_type": "code",
      "source": [
        "train_accuracy = accuracy_score(y_train,y_pred_train)\n",
        "test_accuracy = accuracy_score(y_test,y_pred_test)\n",
        "print(\"Train accuracy\", train_accuracy)\n",
        "print(\"Test accuracy\", test_accuracy)"
      ],
      "metadata": {
        "id": "XxN3fuasUnyO",
        "outputId": "2d6e8263-538f-46d8-8a56-605c141f32ab",
        "colab": {
          "base_uri": "https://localhost:8080/"
        }
      },
      "execution_count": 19,
      "outputs": [
        {
          "output_type": "stream",
          "name": "stdout",
          "text": [
            "Train accuracy 0.9013333333333333\n",
            "Test accuracy 0.888\n"
          ]
        }
      ]
    }
  ]
}