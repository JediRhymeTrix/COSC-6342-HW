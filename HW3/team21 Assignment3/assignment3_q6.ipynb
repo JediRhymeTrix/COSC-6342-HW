{
  "cells": [
    {
      "cell_type": "code",
      "execution_count": 7,
      "metadata": {
        "id": "jWcLRmKXQWpT"
      },
      "outputs": [],
      "source": [
        "import numpy as np\n",
        "\n"
      ]
    },
    {
      "cell_type": "code",
      "execution_count": 8,
      "metadata": {},
      "outputs": [],
      "source": [
        "# Implement the sigmoid activation\n",
        "# function and it's derivative.\n",
        "def sigmoid(x, deriv=False):\n",
        "    if deriv == True:\n",
        "        # return the derivative of the sigmoid function (x here represents sigmoid(x))\n",
        "        return x * (1 - x)\n",
        "\n",
        "    # return the sigmoid function\n",
        "    return 1 / (1 + np.exp(-x))\n",
        "\n"
      ]
    },
    {
      "cell_type": "code",
      "execution_count": 9,
      "metadata": {},
      "outputs": [],
      "source": [
        "# Random input and output.\n",
        "X = np.array([[0, 0, 1],\n",
        "              [0, 1, 1],\n",
        "              [1, 0, 1],\n",
        "              [1, 1, 1]])\n",
        "\n",
        "y = np.array([[0],\n",
        "              [1],\n",
        "              [1],\n",
        "              [0]])\n"
      ]
    },
    {
      "cell_type": "code",
      "execution_count": 10,
      "metadata": {},
      "outputs": [],
      "source": [
        "# Set a numpy seed\n",
        "np.random.seed(1)\n"
      ]
    },
    {
      "cell_type": "code",
      "execution_count": 11,
      "metadata": {},
      "outputs": [],
      "source": [
        "# Randomly initialize our weights with mean 0\n",
        "# Keep in the mind the dimensions!\n",
        "w0 = 2 * np.random.random(X.T.shape) - 1\n",
        "w1 = 2 * np.random.random(y.shape) - 1\n"
      ]
    },
    {
      "cell_type": "code",
      "execution_count": 12,
      "metadata": {},
      "outputs": [
        {
          "name": "stdout",
          "output_type": "stream",
          "text": [
            "Error:0.5005550020678149\n",
            "Error:0.009608945890306362\n",
            "Error:0.0062838745618526756\n",
            "Error:0.004935042721206231\n",
            "Error:0.0041704545970354615\n",
            "Error:0.0036663147326702573\n"
          ]
        }
      ],
      "source": [
        "for j in range(60000):\n",
        "\n",
        "\t# Feed forward. Fill in the missing operation in sigmoid()\n",
        "    # Remember, we are doing w * X + b\n",
        "    # Compute the L1 and L2 loss functions\n",
        "    l0 = X\n",
        "    l1 = sigmoid(np.dot(l0, w0) + 1)\n",
        "    l2 = sigmoid(np.dot(l1, w1) + 1)\n",
        "\n",
        "    # Compute the error: true - prediction\n",
        "    l2_error = y - l2\n",
        "\n",
        "    if (j % 10000) == 0:\n",
        "        print(\"Error:\" + str(np.mean(np.abs(l2_error))))\n",
        "\n",
        "    # We want to compute the gradients. Recall the output\n",
        "    # layer partial derivatives. What does the error tell us?\n",
        "    # Fill in the missing right hand side.\n",
        "    # This error tells us how far our predicted value is from the target value\n",
        "    l2_delta = l2_error * sigmoid(l2, deriv=True)\n",
        "\n",
        "    # We want to know how much did layer1 contridube\n",
        "    # to the error of layer2. Fill in the missing operation.\n",
        "    l1_error = l2_delta.dot(w1.T)\n",
        "\n",
        "    # Same as above, compute the partial derivatives of\n",
        "    # layer1 now just as in layer2.\n",
        "    l1_delta = l1_error * sigmoid(l1, deriv=True)\n",
        "\n",
        "    # Update the weights\n",
        "    w1 += l1.T.dot(l2_delta)\n",
        "    w0 += l0.T.dot(l1_delta)\n"
      ]
    }
  ],
  "metadata": {
    "colab": {
      "provenance": []
    },
    "kernelspec": {
      "display_name": "base",
      "language": "python",
      "name": "python3"
    },
    "language_info": {
      "codemirror_mode": {
        "name": "ipython",
        "version": 3
      },
      "file_extension": ".py",
      "mimetype": "text/x-python",
      "name": "python",
      "nbconvert_exporter": "python",
      "pygments_lexer": "ipython3",
      "version": "3.9.13"
    },
    "vscode": {
      "interpreter": {
        "hash": "8925e1cb74940c9c739f4d1d49e83e1784f45b2140fb8d89f43e40ef302d4e1e"
      }
    }
  },
  "nbformat": 4,
  "nbformat_minor": 0
}
